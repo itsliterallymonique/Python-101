{
 "cells": [
  {
   "cell_type": "markdown",
   "metadata": {},
   "source": [
    "# Python 101: Session 1\n",
    "Welcome to Python 101, Session 1! Here is your digital worksheet to follow and to test things out. The programming concepts covered today are:\n",
    "- comments,\n",
    "- variables,\n",
    "- outputs,\n",
    "\n",
    "In this worksheet there are:\n",
    "- areas to take brief notes,\n",
    "- examples,\n",
    "- in-class exercises, and\n",
    "- homework exercises"
   ]
  },
  {
   "cell_type": "markdown",
   "metadata": {},
   "source": [
    "## Comments\n",
    "Comments are a great way to annotate your code!"
   ]
  },
  {
   "cell_type": "markdown",
   "metadata": {},
   "source": [
    "### Example 1\n",
    "Single-line comments are represented by the pound, #, sign. Run the code below to see what happens!"
   ]
  },
  {
   "cell_type": "code",
   "execution_count": null,
   "metadata": {},
   "outputs": [],
   "source": [
    "# this is a comment! Nothing should happen when the program is run."
   ]
  },
  {
   "cell_type": "markdown",
   "metadata": {},
   "source": [
    "### Example 2\n",
    "Anything after the pound, #, sign should not be run. Run the code below to see what happens!\n",
    "You should ONLY see \"hello world\" printed below the code."
   ]
  },
  {
   "cell_type": "code",
   "execution_count": null,
   "metadata": {
    "scrolled": false
   },
   "outputs": [],
   "source": [
    "# this is a comment!\n",
    "print(\"hello world\") #print(\"hello world\")"
   ]
  },
  {
   "cell_type": "markdown",
   "metadata": {},
   "source": [
    "### Example 3\n",
    "Multi-line comments can look like..."
   ]
  },
  {
   "cell_type": "code",
   "execution_count": null,
   "metadata": {},
   "outputs": [],
   "source": [
    "# this\n",
    "# will\n",
    "# not\n",
    "# be\n",
    "# run"
   ]
  },
  {
   "cell_type": "markdown",
   "metadata": {},
   "source": [
    "### Example 4\n",
    "Or... an easier way would be to use string literals:"
   ]
  },
  {
   "cell_type": "code",
   "execution_count": null,
   "metadata": {},
   "outputs": [],
   "source": [
    "'''\n",
    "hello world!\n",
    "this is a multi-line comment!\n",
    "''';"
   ]
  },
  {
   "cell_type": "markdown",
   "metadata": {},
   "source": [
    "**NOTE FOR STRING LITERALS**\n",
    "In Jupyter Notebook, string literals will show up as an output. If you add a semi-colon, ; , it will be suppressed - the comment will not be in the output"
   ]
  },
  {
   "cell_type": "markdown",
   "metadata": {},
   "source": [
    "## Variables\n",
    "Variables are extremely useful when you need to store values!"
   ]
  },
  {
   "cell_type": "markdown",
   "metadata": {},
   "source": [
    "### Example 1: Declaring a Variable\n",
    "Python doesn't have a way to declare variables. The variable is declared as soon as a value is assigned to it.\n",
    "\n",
    "To 'declare variables', we can give 'empty values', indicated in the code below."
   ]
  },
  {
   "cell_type": "code",
   "execution_count": null,
   "metadata": {},
   "outputs": [],
   "source": [
    "varString = \"\"\n",
    "varInt = 0\n",
    "varFloat = 0.0\n",
    "varBool = False"
   ]
  },
  {
   "cell_type": "markdown",
   "metadata": {},
   "source": [
    "**Remember: variable names are case sensitive"
   ]
  },
  {
   "cell_type": "code",
   "execution_count": null,
   "metadata": {},
   "outputs": [],
   "source": [
    "A = 10\n",
    "print(A)\n",
    "a = \"ten\"\n",
    "print(a)"
   ]
  },
  {
   "cell_type": "markdown",
   "metadata": {},
   "source": [
    "### Example 2: Assigning a Value to a Variable\n",
    "To assign a variable, you will need:\n",
    "- the name of the variable\n",
    "- a value to assign\n",
    "\n",
    "The code below shows you some examples!"
   ]
  },
  {
   "cell_type": "code",
   "execution_count": null,
   "metadata": {},
   "outputs": [],
   "source": [
    "Integer = 10\n",
    "String = \"hello world\"\n",
    "Boolean = True\n",
    "Float = 1.5"
   ]
  },
  {
   "cell_type": "markdown",
   "metadata": {},
   "source": [
    "### Example 3: Reassigning a NEW Value to a Variable\n",
    "Reassigning a new value to a variable is exactly the same as assigning a value!\n",
    "\n",
    "**Note: you can change the type of data in a variable after it has been already assigned"
   ]
  },
  {
   "cell_type": "code",
   "execution_count": null,
   "metadata": {},
   "outputs": [],
   "source": [
    "# reassigning a value of 50 to 'Integer' variable\n",
    "Integer = 50\n",
    "# reassigning a value of \"hello world\" to 'Boolean' variable\n",
    "Boolean = \"hello world\""
   ]
  },
  {
   "cell_type": "markdown",
   "metadata": {},
   "source": [
    "### Exercise 1: Variable Names\n",
    "Run the code below. Can you fix the variable names so that there are no errors? (Note: all names have errors!)"
   ]
  },
  {
   "cell_type": "code",
   "execution_count": null,
   "metadata": {},
   "outputs": [],
   "source": [
    "3 = 3\n",
    "1one = 1\n",
    "&apples = \"apples\"\n",
    "test$ = 'a'\n",
    "hello is = 'hello'"
   ]
  },
  {
   "cell_type": "markdown",
   "metadata": {},
   "source": [
    "### Example 4: Casting Variables\n",
    "We can even change the variable types through 'casting'. \n",
    "\n",
    "However, when casting from a string to an integer or float, the string can’t contain any letters!\n",
    "\n",
    "Below are some examples of casting:"
   ]
  },
  {
   "cell_type": "code",
   "execution_count": null,
   "metadata": {},
   "outputs": [],
   "source": [
    "num = \"45\"\n",
    "int(num)"
   ]
  },
  {
   "cell_type": "code",
   "execution_count": null,
   "metadata": {},
   "outputs": [],
   "source": [
    "var = \"1.4\"\n",
    "float(var)"
   ]
  },
  {
   "cell_type": "code",
   "execution_count": null,
   "metadata": {},
   "outputs": [],
   "source": [
    "var = 1.6\n",
    "int(var)"
   ]
  },
  {
   "cell_type": "code",
   "execution_count": null,
   "metadata": {},
   "outputs": [],
   "source": [
    "var = 100\n",
    "str(var)"
   ]
  },
  {
   "cell_type": "markdown",
   "metadata": {},
   "source": [
    "## Output\n",
    "To display a message on the console, you will need to use the print() function."
   ]
  },
  {
   "cell_type": "markdown",
   "metadata": {},
   "source": [
    "### Example 1\n",
    "To display any message, just put the value inside the brackets!\n",
    "\n",
    "Run the code below and see what happens:"
   ]
  },
  {
   "cell_type": "code",
   "execution_count": null,
   "metadata": {},
   "outputs": [],
   "source": [
    "print(\"hello world\")"
   ]
  },
  {
   "cell_type": "markdown",
   "metadata": {},
   "source": [
    "### Example 2\n",
    "You can also output numbers..."
   ]
  },
  {
   "cell_type": "code",
   "execution_count": null,
   "metadata": {},
   "outputs": [],
   "source": [
    "print(100)\n",
    "print(3.14)"
   ]
  },
  {
   "cell_type": "markdown",
   "metadata": {},
   "source": [
    "### Example 3\n",
    "You can also output values inside variables.\n",
    "\n",
    "The code below shows you how to do this:"
   ]
  },
  {
   "cell_type": "code",
   "execution_count": null,
   "metadata": {},
   "outputs": [],
   "source": [
    "my_var = 3.14\n",
    "print(my_var)"
   ]
  },
  {
   "cell_type": "markdown",
   "metadata": {},
   "source": [
    "### Exercise 2:\n",
    "Create a variable with the value \"hello world\" and output it in the space below. Remember to add some comments!"
   ]
  },
  {
   "cell_type": "code",
   "execution_count": null,
   "metadata": {},
   "outputs": [],
   "source": [
    "# your code goes here"
   ]
  },
  {
   "cell_type": "markdown",
   "metadata": {},
   "source": [
    "### Exercise 3:\n",
    "Create a variable with the value \"3\", turn it into an integer and output it in the space below!"
   ]
  },
  {
   "cell_type": "code",
   "execution_count": null,
   "metadata": {},
   "outputs": [],
   "source": [
    "# your code goes here"
   ]
  }
 ],
 "metadata": {
  "kernelspec": {
   "display_name": "Python 3",
   "language": "python",
   "name": "python3"
  },
  "language_info": {
   "codemirror_mode": {
    "name": "ipython",
    "version": 3
   },
   "file_extension": ".py",
   "mimetype": "text/x-python",
   "name": "python",
   "nbconvert_exporter": "python",
   "pygments_lexer": "ipython3",
   "version": "3.8.3"
  }
 },
 "nbformat": 4,
 "nbformat_minor": 4
}
